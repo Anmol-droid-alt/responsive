{
  "nbformat": 4,
  "nbformat_minor": 0,
  "metadata": {
    "colab": {
      "provenance": [],
      "authorship_tag": "ABX9TyMckmmn3tm9KeW5vfy2P0Wo",
      "include_colab_link": true
    },
    "kernelspec": {
      "name": "python3",
      "display_name": "Python 3"
    },
    "language_info": {
      "name": "python"
    }
  },
  "cells": [
    {
      "cell_type": "markdown",
      "metadata": {
        "id": "view-in-github",
        "colab_type": "text"
      },
      "source": [
        "<a href=\"https://colab.research.google.com/github/Anmol-droid-alt/responsive/blob/main/Restaurant.ipynb\" target=\"_parent\"><img src=\"https://colab.research.google.com/assets/colab-badge.svg\" alt=\"Open In Colab\"/></a>"
      ]
    },
    {
      "cell_type": "code",
      "execution_count": 1,
      "metadata": {
        "id": "G7fSYKCu2QRv"
      },
      "outputs": [],
      "source": [
        "import pandas as pd\n",
        "import numpy as np\n",
        "import seaborn as sns\n",
        "import matplotlib.pyplot as plt"
      ]
    },
    {
      "cell_type": "code",
      "source": [
        "df=pd.read_csv('zomato.csv')"
      ],
      "metadata": {
        "id": "zTB1tJV12dwx"
      },
      "execution_count": 2,
      "outputs": []
    },
    {
      "cell_type": "code",
      "source": [
        "df.head()"
      ],
      "metadata": {
        "colab": {
          "base_uri": "https://localhost:8080/",
          "height": 434
        },
        "id": "e9z0xNaT2ilP",
        "outputId": "3d63e04c-62f3-49bb-c47a-b48d80045d79"
      },
      "execution_count": 3,
      "outputs": [
        {
          "output_type": "execute_result",
          "data": {
            "text/plain": [
              "   Unnamed: 0.1  Unnamed: 0     restaurant name restaurant type  \\\n",
              "0             0           0        #FeelTheROLL     Quick Bites   \n",
              "1             1           1          #L-81 Cafe     Quick Bites   \n",
              "2             2           2             #refuel            Cafe   \n",
              "3             3           3  '@ Biryani Central   Casual Dining   \n",
              "4             4           4          '@ The Bbq   Casual Dining   \n",
              "\n",
              "   rate (out of 5)  num of ratings  avg cost (two people) online_order  \\\n",
              "0              3.4               7                  200.0           No   \n",
              "1              3.9              48                  400.0          Yes   \n",
              "2              3.7              37                  400.0          Yes   \n",
              "3              2.7             135                  550.0          Yes   \n",
              "4              2.8              40                  700.0          Yes   \n",
              "\n",
              "  table booking                                      cuisines type  \\\n",
              "0            No                                          Fast Food   \n",
              "1            No                               Fast Food, Beverages   \n",
              "2            No                                    Cafe, Beverages   \n",
              "3            No                          Biryani, Mughlai, Chinese   \n",
              "4            No  BBQ, Continental, North Indian, Chinese, Bever...   \n",
              "\n",
              "                             area      local address  \n",
              "0                       Bellandur          Bellandur  \n",
              "1  Byresandra,Tavarekere,Madiwala                HSR  \n",
              "2               Bannerghatta Road  Bannerghatta Road  \n",
              "3                    Marathahalli       Marathahalli  \n",
              "4                       Bellandur          Bellandur  "
            ],
            "text/html": [
              "\n",
              "  <div id=\"df-cb021038-0428-4b99-b735-f6cfc0ae2d99\" class=\"colab-df-container\">\n",
              "    <div>\n",
              "<style scoped>\n",
              "    .dataframe tbody tr th:only-of-type {\n",
              "        vertical-align: middle;\n",
              "    }\n",
              "\n",
              "    .dataframe tbody tr th {\n",
              "        vertical-align: top;\n",
              "    }\n",
              "\n",
              "    .dataframe thead th {\n",
              "        text-align: right;\n",
              "    }\n",
              "</style>\n",
              "<table border=\"1\" class=\"dataframe\">\n",
              "  <thead>\n",
              "    <tr style=\"text-align: right;\">\n",
              "      <th></th>\n",
              "      <th>Unnamed: 0.1</th>\n",
              "      <th>Unnamed: 0</th>\n",
              "      <th>restaurant name</th>\n",
              "      <th>restaurant type</th>\n",
              "      <th>rate (out of 5)</th>\n",
              "      <th>num of ratings</th>\n",
              "      <th>avg cost (two people)</th>\n",
              "      <th>online_order</th>\n",
              "      <th>table booking</th>\n",
              "      <th>cuisines type</th>\n",
              "      <th>area</th>\n",
              "      <th>local address</th>\n",
              "    </tr>\n",
              "  </thead>\n",
              "  <tbody>\n",
              "    <tr>\n",
              "      <th>0</th>\n",
              "      <td>0</td>\n",
              "      <td>0</td>\n",
              "      <td>#FeelTheROLL</td>\n",
              "      <td>Quick Bites</td>\n",
              "      <td>3.4</td>\n",
              "      <td>7</td>\n",
              "      <td>200.0</td>\n",
              "      <td>No</td>\n",
              "      <td>No</td>\n",
              "      <td>Fast Food</td>\n",
              "      <td>Bellandur</td>\n",
              "      <td>Bellandur</td>\n",
              "    </tr>\n",
              "    <tr>\n",
              "      <th>1</th>\n",
              "      <td>1</td>\n",
              "      <td>1</td>\n",
              "      <td>#L-81 Cafe</td>\n",
              "      <td>Quick Bites</td>\n",
              "      <td>3.9</td>\n",
              "      <td>48</td>\n",
              "      <td>400.0</td>\n",
              "      <td>Yes</td>\n",
              "      <td>No</td>\n",
              "      <td>Fast Food, Beverages</td>\n",
              "      <td>Byresandra,Tavarekere,Madiwala</td>\n",
              "      <td>HSR</td>\n",
              "    </tr>\n",
              "    <tr>\n",
              "      <th>2</th>\n",
              "      <td>2</td>\n",
              "      <td>2</td>\n",
              "      <td>#refuel</td>\n",
              "      <td>Cafe</td>\n",
              "      <td>3.7</td>\n",
              "      <td>37</td>\n",
              "      <td>400.0</td>\n",
              "      <td>Yes</td>\n",
              "      <td>No</td>\n",
              "      <td>Cafe, Beverages</td>\n",
              "      <td>Bannerghatta Road</td>\n",
              "      <td>Bannerghatta Road</td>\n",
              "    </tr>\n",
              "    <tr>\n",
              "      <th>3</th>\n",
              "      <td>3</td>\n",
              "      <td>3</td>\n",
              "      <td>'@ Biryani Central</td>\n",
              "      <td>Casual Dining</td>\n",
              "      <td>2.7</td>\n",
              "      <td>135</td>\n",
              "      <td>550.0</td>\n",
              "      <td>Yes</td>\n",
              "      <td>No</td>\n",
              "      <td>Biryani, Mughlai, Chinese</td>\n",
              "      <td>Marathahalli</td>\n",
              "      <td>Marathahalli</td>\n",
              "    </tr>\n",
              "    <tr>\n",
              "      <th>4</th>\n",
              "      <td>4</td>\n",
              "      <td>4</td>\n",
              "      <td>'@ The Bbq</td>\n",
              "      <td>Casual Dining</td>\n",
              "      <td>2.8</td>\n",
              "      <td>40</td>\n",
              "      <td>700.0</td>\n",
              "      <td>Yes</td>\n",
              "      <td>No</td>\n",
              "      <td>BBQ, Continental, North Indian, Chinese, Bever...</td>\n",
              "      <td>Bellandur</td>\n",
              "      <td>Bellandur</td>\n",
              "    </tr>\n",
              "  </tbody>\n",
              "</table>\n",
              "</div>\n",
              "    <div class=\"colab-df-buttons\">\n",
              "\n",
              "  <div class=\"colab-df-container\">\n",
              "    <button class=\"colab-df-convert\" onclick=\"convertToInteractive('df-cb021038-0428-4b99-b735-f6cfc0ae2d99')\"\n",
              "            title=\"Convert this dataframe to an interactive table.\"\n",
              "            style=\"display:none;\">\n",
              "\n",
              "  <svg xmlns=\"http://www.w3.org/2000/svg\" height=\"24px\" viewBox=\"0 -960 960 960\">\n",
              "    <path d=\"M120-120v-720h720v720H120Zm60-500h600v-160H180v160Zm220 220h160v-160H400v160Zm0 220h160v-160H400v160ZM180-400h160v-160H180v160Zm440 0h160v-160H620v160ZM180-180h160v-160H180v160Zm440 0h160v-160H620v160Z\"/>\n",
              "  </svg>\n",
              "    </button>\n",
              "\n",
              "  <style>\n",
              "    .colab-df-container {\n",
              "      display:flex;\n",
              "      gap: 12px;\n",
              "    }\n",
              "\n",
              "    .colab-df-convert {\n",
              "      background-color: #E8F0FE;\n",
              "      border: none;\n",
              "      border-radius: 50%;\n",
              "      cursor: pointer;\n",
              "      display: none;\n",
              "      fill: #1967D2;\n",
              "      height: 32px;\n",
              "      padding: 0 0 0 0;\n",
              "      width: 32px;\n",
              "    }\n",
              "\n",
              "    .colab-df-convert:hover {\n",
              "      background-color: #E2EBFA;\n",
              "      box-shadow: 0px 1px 2px rgba(60, 64, 67, 0.3), 0px 1px 3px 1px rgba(60, 64, 67, 0.15);\n",
              "      fill: #174EA6;\n",
              "    }\n",
              "\n",
              "    .colab-df-buttons div {\n",
              "      margin-bottom: 4px;\n",
              "    }\n",
              "\n",
              "    [theme=dark] .colab-df-convert {\n",
              "      background-color: #3B4455;\n",
              "      fill: #D2E3FC;\n",
              "    }\n",
              "\n",
              "    [theme=dark] .colab-df-convert:hover {\n",
              "      background-color: #434B5C;\n",
              "      box-shadow: 0px 1px 3px 1px rgba(0, 0, 0, 0.15);\n",
              "      filter: drop-shadow(0px 1px 2px rgba(0, 0, 0, 0.3));\n",
              "      fill: #FFFFFF;\n",
              "    }\n",
              "  </style>\n",
              "\n",
              "    <script>\n",
              "      const buttonEl =\n",
              "        document.querySelector('#df-cb021038-0428-4b99-b735-f6cfc0ae2d99 button.colab-df-convert');\n",
              "      buttonEl.style.display =\n",
              "        google.colab.kernel.accessAllowed ? 'block' : 'none';\n",
              "\n",
              "      async function convertToInteractive(key) {\n",
              "        const element = document.querySelector('#df-cb021038-0428-4b99-b735-f6cfc0ae2d99');\n",
              "        const dataTable =\n",
              "          await google.colab.kernel.invokeFunction('convertToInteractive',\n",
              "                                                    [key], {});\n",
              "        if (!dataTable) return;\n",
              "\n",
              "        const docLinkHtml = 'Like what you see? Visit the ' +\n",
              "          '<a target=\"_blank\" href=https://colab.research.google.com/notebooks/data_table.ipynb>data table notebook</a>'\n",
              "          + ' to learn more about interactive tables.';\n",
              "        element.innerHTML = '';\n",
              "        dataTable['output_type'] = 'display_data';\n",
              "        await google.colab.output.renderOutput(dataTable, element);\n",
              "        const docLink = document.createElement('div');\n",
              "        docLink.innerHTML = docLinkHtml;\n",
              "        element.appendChild(docLink);\n",
              "      }\n",
              "    </script>\n",
              "  </div>\n",
              "\n",
              "\n",
              "<div id=\"df-b28f502d-1d31-4e72-b93e-27ea7eeae14d\">\n",
              "  <button class=\"colab-df-quickchart\" onclick=\"quickchart('df-b28f502d-1d31-4e72-b93e-27ea7eeae14d')\"\n",
              "            title=\"Suggest charts\"\n",
              "            style=\"display:none;\">\n",
              "\n",
              "<svg xmlns=\"http://www.w3.org/2000/svg\" height=\"24px\"viewBox=\"0 0 24 24\"\n",
              "     width=\"24px\">\n",
              "    <g>\n",
              "        <path d=\"M19 3H5c-1.1 0-2 .9-2 2v14c0 1.1.9 2 2 2h14c1.1 0 2-.9 2-2V5c0-1.1-.9-2-2-2zM9 17H7v-7h2v7zm4 0h-2V7h2v10zm4 0h-2v-4h2v4z\"/>\n",
              "    </g>\n",
              "</svg>\n",
              "  </button>\n",
              "\n",
              "<style>\n",
              "  .colab-df-quickchart {\n",
              "      --bg-color: #E8F0FE;\n",
              "      --fill-color: #1967D2;\n",
              "      --hover-bg-color: #E2EBFA;\n",
              "      --hover-fill-color: #174EA6;\n",
              "      --disabled-fill-color: #AAA;\n",
              "      --disabled-bg-color: #DDD;\n",
              "  }\n",
              "\n",
              "  [theme=dark] .colab-df-quickchart {\n",
              "      --bg-color: #3B4455;\n",
              "      --fill-color: #D2E3FC;\n",
              "      --hover-bg-color: #434B5C;\n",
              "      --hover-fill-color: #FFFFFF;\n",
              "      --disabled-bg-color: #3B4455;\n",
              "      --disabled-fill-color: #666;\n",
              "  }\n",
              "\n",
              "  .colab-df-quickchart {\n",
              "    background-color: var(--bg-color);\n",
              "    border: none;\n",
              "    border-radius: 50%;\n",
              "    cursor: pointer;\n",
              "    display: none;\n",
              "    fill: var(--fill-color);\n",
              "    height: 32px;\n",
              "    padding: 0;\n",
              "    width: 32px;\n",
              "  }\n",
              "\n",
              "  .colab-df-quickchart:hover {\n",
              "    background-color: var(--hover-bg-color);\n",
              "    box-shadow: 0 1px 2px rgba(60, 64, 67, 0.3), 0 1px 3px 1px rgba(60, 64, 67, 0.15);\n",
              "    fill: var(--button-hover-fill-color);\n",
              "  }\n",
              "\n",
              "  .colab-df-quickchart-complete:disabled,\n",
              "  .colab-df-quickchart-complete:disabled:hover {\n",
              "    background-color: var(--disabled-bg-color);\n",
              "    fill: var(--disabled-fill-color);\n",
              "    box-shadow: none;\n",
              "  }\n",
              "\n",
              "  .colab-df-spinner {\n",
              "    border: 2px solid var(--fill-color);\n",
              "    border-color: transparent;\n",
              "    border-bottom-color: var(--fill-color);\n",
              "    animation:\n",
              "      spin 1s steps(1) infinite;\n",
              "  }\n",
              "\n",
              "  @keyframes spin {\n",
              "    0% {\n",
              "      border-color: transparent;\n",
              "      border-bottom-color: var(--fill-color);\n",
              "      border-left-color: var(--fill-color);\n",
              "    }\n",
              "    20% {\n",
              "      border-color: transparent;\n",
              "      border-left-color: var(--fill-color);\n",
              "      border-top-color: var(--fill-color);\n",
              "    }\n",
              "    30% {\n",
              "      border-color: transparent;\n",
              "      border-left-color: var(--fill-color);\n",
              "      border-top-color: var(--fill-color);\n",
              "      border-right-color: var(--fill-color);\n",
              "    }\n",
              "    40% {\n",
              "      border-color: transparent;\n",
              "      border-right-color: var(--fill-color);\n",
              "      border-top-color: var(--fill-color);\n",
              "    }\n",
              "    60% {\n",
              "      border-color: transparent;\n",
              "      border-right-color: var(--fill-color);\n",
              "    }\n",
              "    80% {\n",
              "      border-color: transparent;\n",
              "      border-right-color: var(--fill-color);\n",
              "      border-bottom-color: var(--fill-color);\n",
              "    }\n",
              "    90% {\n",
              "      border-color: transparent;\n",
              "      border-bottom-color: var(--fill-color);\n",
              "    }\n",
              "  }\n",
              "</style>\n",
              "\n",
              "  <script>\n",
              "    async function quickchart(key) {\n",
              "      const quickchartButtonEl =\n",
              "        document.querySelector('#' + key + ' button');\n",
              "      quickchartButtonEl.disabled = true;  // To prevent multiple clicks.\n",
              "      quickchartButtonEl.classList.add('colab-df-spinner');\n",
              "      try {\n",
              "        const charts = await google.colab.kernel.invokeFunction(\n",
              "            'suggestCharts', [key], {});\n",
              "      } catch (error) {\n",
              "        console.error('Error during call to suggestCharts:', error);\n",
              "      }\n",
              "      quickchartButtonEl.classList.remove('colab-df-spinner');\n",
              "      quickchartButtonEl.classList.add('colab-df-quickchart-complete');\n",
              "    }\n",
              "    (() => {\n",
              "      let quickchartButtonEl =\n",
              "        document.querySelector('#df-b28f502d-1d31-4e72-b93e-27ea7eeae14d button');\n",
              "      quickchartButtonEl.style.display =\n",
              "        google.colab.kernel.accessAllowed ? 'block' : 'none';\n",
              "    })();\n",
              "  </script>\n",
              "</div>\n",
              "\n",
              "    </div>\n",
              "  </div>\n"
            ],
            "application/vnd.google.colaboratory.intrinsic+json": {
              "type": "dataframe",
              "variable_name": "df",
              "summary": "{\n  \"name\": \"df\",\n  \"rows\": 7105,\n  \"fields\": [\n    {\n      \"column\": \"Unnamed: 0.1\",\n      \"properties\": {\n        \"dtype\": \"number\",\n        \"std\": 2051,\n        \"min\": 0,\n        \"max\": 7104,\n        \"num_unique_values\": 7105,\n        \"samples\": [\n          6421,\n          5681,\n          4678\n        ],\n        \"semantic_type\": \"\",\n        \"description\": \"\"\n      }\n    },\n    {\n      \"column\": \"Unnamed: 0\",\n      \"properties\": {\n        \"dtype\": \"number\",\n        \"std\": 2051,\n        \"min\": 0,\n        \"max\": 7104,\n        \"num_unique_values\": 7105,\n        \"samples\": [\n          6421,\n          5681,\n          4678\n        ],\n        \"semantic_type\": \"\",\n        \"description\": \"\"\n      }\n    },\n    {\n      \"column\": \"restaurant name\",\n      \"properties\": {\n        \"dtype\": \"string\",\n        \"num_unique_values\": 7105,\n        \"samples\": [\n          \"The Lassi and Juice Park\",\n          \"Spice Terrace - JW Marriott\",\n          \"Pecos Mojo\"\n        ],\n        \"semantic_type\": \"\",\n        \"description\": \"\"\n      }\n    },\n    {\n      \"column\": \"restaurant type\",\n      \"properties\": {\n        \"dtype\": \"category\",\n        \"num_unique_values\": 81,\n        \"samples\": [\n          \"Sweet Shop, Quick Bites\",\n          \"Quick Bites\",\n          \"Bar, Lounge\"\n        ],\n        \"semantic_type\": \"\",\n        \"description\": \"\"\n      }\n    },\n    {\n      \"column\": \"rate (out of 5)\",\n      \"properties\": {\n        \"dtype\": \"number\",\n        \"std\": 0.4632485953014238,\n        \"min\": 1.8,\n        \"max\": 4.9,\n        \"num_unique_values\": 31,\n        \"samples\": [\n          4.8,\n          2.9,\n          4.9\n        ],\n        \"semantic_type\": \"\",\n        \"description\": \"\"\n      }\n    },\n    {\n      \"column\": \"num of ratings\",\n      \"properties\": {\n        \"dtype\": \"number\",\n        \"std\": 592,\n        \"min\": 1,\n        \"max\": 16345,\n        \"num_unique_values\": 935,\n        \"samples\": [\n          970,\n          97,\n          527\n        ],\n        \"semantic_type\": \"\",\n        \"description\": \"\"\n      }\n    },\n    {\n      \"column\": \"avg cost (two people)\",\n      \"properties\": {\n        \"dtype\": \"number\",\n        \"std\": 462.9023054968781,\n        \"min\": 40.0,\n        \"max\": 6000.0,\n        \"num_unique_values\": 65,\n        \"samples\": [\n          240.0,\n          40.0,\n          200.0\n        ],\n        \"semantic_type\": \"\",\n        \"description\": \"\"\n      }\n    },\n    {\n      \"column\": \"online_order\",\n      \"properties\": {\n        \"dtype\": \"category\",\n        \"num_unique_values\": 2,\n        \"samples\": [\n          \"Yes\",\n          \"No\"\n        ],\n        \"semantic_type\": \"\",\n        \"description\": \"\"\n      }\n    },\n    {\n      \"column\": \"table booking\",\n      \"properties\": {\n        \"dtype\": \"category\",\n        \"num_unique_values\": 2,\n        \"samples\": [\n          \"Yes\",\n          \"No\"\n        ],\n        \"semantic_type\": \"\",\n        \"description\": \"\"\n      }\n    },\n    {\n      \"column\": \"cuisines type\",\n      \"properties\": {\n        \"dtype\": \"category\",\n        \"num_unique_values\": 2175,\n        \"samples\": [\n          \"Street Food, Sandwich\",\n          \"Fast Food, Chinese, North Indian, American\"\n        ],\n        \"semantic_type\": \"\",\n        \"description\": \"\"\n      }\n    },\n    {\n      \"column\": \"area\",\n      \"properties\": {\n        \"dtype\": \"category\",\n        \"num_unique_values\": 30,\n        \"samples\": [\n          \"Church Street\",\n          \"JP Nagar\"\n        ],\n        \"semantic_type\": \"\",\n        \"description\": \"\"\n      }\n    },\n    {\n      \"column\": \"local address\",\n      \"properties\": {\n        \"dtype\": \"category\",\n        \"num_unique_values\": 90,\n        \"samples\": [\n          \"Ejipura\",\n          \"Seshadripuram\"\n        ],\n        \"semantic_type\": \"\",\n        \"description\": \"\"\n      }\n    }\n  ]\n}"
            }
          },
          "metadata": {},
          "execution_count": 3
        }
      ]
    },
    {
      "cell_type": "code",
      "source": [
        "df.tail()"
      ],
      "metadata": {
        "colab": {
          "base_uri": "https://localhost:8080/",
          "height": 487
        },
        "id": "DNuH9Ip52nmD",
        "outputId": "d0854183-9430-4bc6-c105-9885f92720ec"
      },
      "execution_count": 4,
      "outputs": [
        {
          "output_type": "execute_result",
          "data": {
            "text/plain": [
              "      Unnamed: 0.1  Unnamed: 0         restaurant name     restaurant type  \\\n",
              "7100          7100        7100                  Zoey's                Cafe   \n",
              "7101          7101        7101  ZOROY Luxury Chocolate      Dessert Parlor   \n",
              "7102          7102        7102       Zu's Doner Kebaps  Takeaway, Delivery   \n",
              "7103          7103        7103                   Zyara       Casual Dining   \n",
              "7104          7104        7104                  Zyksha          Food Truck   \n",
              "\n",
              "      rate (out of 5)  num of ratings  avg cost (two people) online_order  \\\n",
              "7100              4.3             894                  600.0          Yes   \n",
              "7101              4.0              68                  250.0          Yes   \n",
              "7102              3.7              33                  350.0           No   \n",
              "7103              3.8             191                  650.0          Yes   \n",
              "7104              3.4               9                  200.0           No   \n",
              "\n",
              "     table booking                         cuisines type               area  \\\n",
              "7100            No    Cafe, Italian, Continental, Burger          Bellandur   \n",
              "7101            No                              Desserts       Brigade Road   \n",
              "7102            No  Turkish, Fast Food, Biryani, Chinese       Malleshwaram   \n",
              "7103            No        North Indian, Mughlai, Chinese       Kammanahalli   \n",
              "7104            No                             Fast Food  Bannerghatta Road   \n",
              "\n",
              "        local address  \n",
              "7100    Sarjapur Road  \n",
              "7101    Church Street  \n",
              "7102         RT Nagar  \n",
              "7103       HBR Layout  \n",
              "7104  South Bangalore  "
            ],
            "text/html": [
              "\n",
              "  <div id=\"df-b1f1ee5c-204f-47c1-9214-eb3d74bc1162\" class=\"colab-df-container\">\n",
              "    <div>\n",
              "<style scoped>\n",
              "    .dataframe tbody tr th:only-of-type {\n",
              "        vertical-align: middle;\n",
              "    }\n",
              "\n",
              "    .dataframe tbody tr th {\n",
              "        vertical-align: top;\n",
              "    }\n",
              "\n",
              "    .dataframe thead th {\n",
              "        text-align: right;\n",
              "    }\n",
              "</style>\n",
              "<table border=\"1\" class=\"dataframe\">\n",
              "  <thead>\n",
              "    <tr style=\"text-align: right;\">\n",
              "      <th></th>\n",
              "      <th>Unnamed: 0.1</th>\n",
              "      <th>Unnamed: 0</th>\n",
              "      <th>restaurant name</th>\n",
              "      <th>restaurant type</th>\n",
              "      <th>rate (out of 5)</th>\n",
              "      <th>num of ratings</th>\n",
              "      <th>avg cost (two people)</th>\n",
              "      <th>online_order</th>\n",
              "      <th>table booking</th>\n",
              "      <th>cuisines type</th>\n",
              "      <th>area</th>\n",
              "      <th>local address</th>\n",
              "    </tr>\n",
              "  </thead>\n",
              "  <tbody>\n",
              "    <tr>\n",
              "      <th>7100</th>\n",
              "      <td>7100</td>\n",
              "      <td>7100</td>\n",
              "      <td>Zoey's</td>\n",
              "      <td>Cafe</td>\n",
              "      <td>4.3</td>\n",
              "      <td>894</td>\n",
              "      <td>600.0</td>\n",
              "      <td>Yes</td>\n",
              "      <td>No</td>\n",
              "      <td>Cafe, Italian, Continental, Burger</td>\n",
              "      <td>Bellandur</td>\n",
              "      <td>Sarjapur Road</td>\n",
              "    </tr>\n",
              "    <tr>\n",
              "      <th>7101</th>\n",
              "      <td>7101</td>\n",
              "      <td>7101</td>\n",
              "      <td>ZOROY Luxury Chocolate</td>\n",
              "      <td>Dessert Parlor</td>\n",
              "      <td>4.0</td>\n",
              "      <td>68</td>\n",
              "      <td>250.0</td>\n",
              "      <td>Yes</td>\n",
              "      <td>No</td>\n",
              "      <td>Desserts</td>\n",
              "      <td>Brigade Road</td>\n",
              "      <td>Church Street</td>\n",
              "    </tr>\n",
              "    <tr>\n",
              "      <th>7102</th>\n",
              "      <td>7102</td>\n",
              "      <td>7102</td>\n",
              "      <td>Zu's Doner Kebaps</td>\n",
              "      <td>Takeaway, Delivery</td>\n",
              "      <td>3.7</td>\n",
              "      <td>33</td>\n",
              "      <td>350.0</td>\n",
              "      <td>No</td>\n",
              "      <td>No</td>\n",
              "      <td>Turkish, Fast Food, Biryani, Chinese</td>\n",
              "      <td>Malleshwaram</td>\n",
              "      <td>RT Nagar</td>\n",
              "    </tr>\n",
              "    <tr>\n",
              "      <th>7103</th>\n",
              "      <td>7103</td>\n",
              "      <td>7103</td>\n",
              "      <td>Zyara</td>\n",
              "      <td>Casual Dining</td>\n",
              "      <td>3.8</td>\n",
              "      <td>191</td>\n",
              "      <td>650.0</td>\n",
              "      <td>Yes</td>\n",
              "      <td>No</td>\n",
              "      <td>North Indian, Mughlai, Chinese</td>\n",
              "      <td>Kammanahalli</td>\n",
              "      <td>HBR Layout</td>\n",
              "    </tr>\n",
              "    <tr>\n",
              "      <th>7104</th>\n",
              "      <td>7104</td>\n",
              "      <td>7104</td>\n",
              "      <td>Zyksha</td>\n",
              "      <td>Food Truck</td>\n",
              "      <td>3.4</td>\n",
              "      <td>9</td>\n",
              "      <td>200.0</td>\n",
              "      <td>No</td>\n",
              "      <td>No</td>\n",
              "      <td>Fast Food</td>\n",
              "      <td>Bannerghatta Road</td>\n",
              "      <td>South Bangalore</td>\n",
              "    </tr>\n",
              "  </tbody>\n",
              "</table>\n",
              "</div>\n",
              "    <div class=\"colab-df-buttons\">\n",
              "\n",
              "  <div class=\"colab-df-container\">\n",
              "    <button class=\"colab-df-convert\" onclick=\"convertToInteractive('df-b1f1ee5c-204f-47c1-9214-eb3d74bc1162')\"\n",
              "            title=\"Convert this dataframe to an interactive table.\"\n",
              "            style=\"display:none;\">\n",
              "\n",
              "  <svg xmlns=\"http://www.w3.org/2000/svg\" height=\"24px\" viewBox=\"0 -960 960 960\">\n",
              "    <path d=\"M120-120v-720h720v720H120Zm60-500h600v-160H180v160Zm220 220h160v-160H400v160Zm0 220h160v-160H400v160ZM180-400h160v-160H180v160Zm440 0h160v-160H620v160ZM180-180h160v-160H180v160Zm440 0h160v-160H620v160Z\"/>\n",
              "  </svg>\n",
              "    </button>\n",
              "\n",
              "  <style>\n",
              "    .colab-df-container {\n",
              "      display:flex;\n",
              "      gap: 12px;\n",
              "    }\n",
              "\n",
              "    .colab-df-convert {\n",
              "      background-color: #E8F0FE;\n",
              "      border: none;\n",
              "      border-radius: 50%;\n",
              "      cursor: pointer;\n",
              "      display: none;\n",
              "      fill: #1967D2;\n",
              "      height: 32px;\n",
              "      padding: 0 0 0 0;\n",
              "      width: 32px;\n",
              "    }\n",
              "\n",
              "    .colab-df-convert:hover {\n",
              "      background-color: #E2EBFA;\n",
              "      box-shadow: 0px 1px 2px rgba(60, 64, 67, 0.3), 0px 1px 3px 1px rgba(60, 64, 67, 0.15);\n",
              "      fill: #174EA6;\n",
              "    }\n",
              "\n",
              "    .colab-df-buttons div {\n",
              "      margin-bottom: 4px;\n",
              "    }\n",
              "\n",
              "    [theme=dark] .colab-df-convert {\n",
              "      background-color: #3B4455;\n",
              "      fill: #D2E3FC;\n",
              "    }\n",
              "\n",
              "    [theme=dark] .colab-df-convert:hover {\n",
              "      background-color: #434B5C;\n",
              "      box-shadow: 0px 1px 3px 1px rgba(0, 0, 0, 0.15);\n",
              "      filter: drop-shadow(0px 1px 2px rgba(0, 0, 0, 0.3));\n",
              "      fill: #FFFFFF;\n",
              "    }\n",
              "  </style>\n",
              "\n",
              "    <script>\n",
              "      const buttonEl =\n",
              "        document.querySelector('#df-b1f1ee5c-204f-47c1-9214-eb3d74bc1162 button.colab-df-convert');\n",
              "      buttonEl.style.display =\n",
              "        google.colab.kernel.accessAllowed ? 'block' : 'none';\n",
              "\n",
              "      async function convertToInteractive(key) {\n",
              "        const element = document.querySelector('#df-b1f1ee5c-204f-47c1-9214-eb3d74bc1162');\n",
              "        const dataTable =\n",
              "          await google.colab.kernel.invokeFunction('convertToInteractive',\n",
              "                                                    [key], {});\n",
              "        if (!dataTable) return;\n",
              "\n",
              "        const docLinkHtml = 'Like what you see? Visit the ' +\n",
              "          '<a target=\"_blank\" href=https://colab.research.google.com/notebooks/data_table.ipynb>data table notebook</a>'\n",
              "          + ' to learn more about interactive tables.';\n",
              "        element.innerHTML = '';\n",
              "        dataTable['output_type'] = 'display_data';\n",
              "        await google.colab.output.renderOutput(dataTable, element);\n",
              "        const docLink = document.createElement('div');\n",
              "        docLink.innerHTML = docLinkHtml;\n",
              "        element.appendChild(docLink);\n",
              "      }\n",
              "    </script>\n",
              "  </div>\n",
              "\n",
              "\n",
              "<div id=\"df-50969f31-49bf-4e82-96db-04cd75c6b2d1\">\n",
              "  <button class=\"colab-df-quickchart\" onclick=\"quickchart('df-50969f31-49bf-4e82-96db-04cd75c6b2d1')\"\n",
              "            title=\"Suggest charts\"\n",
              "            style=\"display:none;\">\n",
              "\n",
              "<svg xmlns=\"http://www.w3.org/2000/svg\" height=\"24px\"viewBox=\"0 0 24 24\"\n",
              "     width=\"24px\">\n",
              "    <g>\n",
              "        <path d=\"M19 3H5c-1.1 0-2 .9-2 2v14c0 1.1.9 2 2 2h14c1.1 0 2-.9 2-2V5c0-1.1-.9-2-2-2zM9 17H7v-7h2v7zm4 0h-2V7h2v10zm4 0h-2v-4h2v4z\"/>\n",
              "    </g>\n",
              "</svg>\n",
              "  </button>\n",
              "\n",
              "<style>\n",
              "  .colab-df-quickchart {\n",
              "      --bg-color: #E8F0FE;\n",
              "      --fill-color: #1967D2;\n",
              "      --hover-bg-color: #E2EBFA;\n",
              "      --hover-fill-color: #174EA6;\n",
              "      --disabled-fill-color: #AAA;\n",
              "      --disabled-bg-color: #DDD;\n",
              "  }\n",
              "\n",
              "  [theme=dark] .colab-df-quickchart {\n",
              "      --bg-color: #3B4455;\n",
              "      --fill-color: #D2E3FC;\n",
              "      --hover-bg-color: #434B5C;\n",
              "      --hover-fill-color: #FFFFFF;\n",
              "      --disabled-bg-color: #3B4455;\n",
              "      --disabled-fill-color: #666;\n",
              "  }\n",
              "\n",
              "  .colab-df-quickchart {\n",
              "    background-color: var(--bg-color);\n",
              "    border: none;\n",
              "    border-radius: 50%;\n",
              "    cursor: pointer;\n",
              "    display: none;\n",
              "    fill: var(--fill-color);\n",
              "    height: 32px;\n",
              "    padding: 0;\n",
              "    width: 32px;\n",
              "  }\n",
              "\n",
              "  .colab-df-quickchart:hover {\n",
              "    background-color: var(--hover-bg-color);\n",
              "    box-shadow: 0 1px 2px rgba(60, 64, 67, 0.3), 0 1px 3px 1px rgba(60, 64, 67, 0.15);\n",
              "    fill: var(--button-hover-fill-color);\n",
              "  }\n",
              "\n",
              "  .colab-df-quickchart-complete:disabled,\n",
              "  .colab-df-quickchart-complete:disabled:hover {\n",
              "    background-color: var(--disabled-bg-color);\n",
              "    fill: var(--disabled-fill-color);\n",
              "    box-shadow: none;\n",
              "  }\n",
              "\n",
              "  .colab-df-spinner {\n",
              "    border: 2px solid var(--fill-color);\n",
              "    border-color: transparent;\n",
              "    border-bottom-color: var(--fill-color);\n",
              "    animation:\n",
              "      spin 1s steps(1) infinite;\n",
              "  }\n",
              "\n",
              "  @keyframes spin {\n",
              "    0% {\n",
              "      border-color: transparent;\n",
              "      border-bottom-color: var(--fill-color);\n",
              "      border-left-color: var(--fill-color);\n",
              "    }\n",
              "    20% {\n",
              "      border-color: transparent;\n",
              "      border-left-color: var(--fill-color);\n",
              "      border-top-color: var(--fill-color);\n",
              "    }\n",
              "    30% {\n",
              "      border-color: transparent;\n",
              "      border-left-color: var(--fill-color);\n",
              "      border-top-color: var(--fill-color);\n",
              "      border-right-color: var(--fill-color);\n",
              "    }\n",
              "    40% {\n",
              "      border-color: transparent;\n",
              "      border-right-color: var(--fill-color);\n",
              "      border-top-color: var(--fill-color);\n",
              "    }\n",
              "    60% {\n",
              "      border-color: transparent;\n",
              "      border-right-color: var(--fill-color);\n",
              "    }\n",
              "    80% {\n",
              "      border-color: transparent;\n",
              "      border-right-color: var(--fill-color);\n",
              "      border-bottom-color: var(--fill-color);\n",
              "    }\n",
              "    90% {\n",
              "      border-color: transparent;\n",
              "      border-bottom-color: var(--fill-color);\n",
              "    }\n",
              "  }\n",
              "</style>\n",
              "\n",
              "  <script>\n",
              "    async function quickchart(key) {\n",
              "      const quickchartButtonEl =\n",
              "        document.querySelector('#' + key + ' button');\n",
              "      quickchartButtonEl.disabled = true;  // To prevent multiple clicks.\n",
              "      quickchartButtonEl.classList.add('colab-df-spinner');\n",
              "      try {\n",
              "        const charts = await google.colab.kernel.invokeFunction(\n",
              "            'suggestCharts', [key], {});\n",
              "      } catch (error) {\n",
              "        console.error('Error during call to suggestCharts:', error);\n",
              "      }\n",
              "      quickchartButtonEl.classList.remove('colab-df-spinner');\n",
              "      quickchartButtonEl.classList.add('colab-df-quickchart-complete');\n",
              "    }\n",
              "    (() => {\n",
              "      let quickchartButtonEl =\n",
              "        document.querySelector('#df-50969f31-49bf-4e82-96db-04cd75c6b2d1 button');\n",
              "      quickchartButtonEl.style.display =\n",
              "        google.colab.kernel.accessAllowed ? 'block' : 'none';\n",
              "    })();\n",
              "  </script>\n",
              "</div>\n",
              "\n",
              "    </div>\n",
              "  </div>\n"
            ],
            "application/vnd.google.colaboratory.intrinsic+json": {
              "type": "dataframe",
              "summary": "{\n  \"name\": \"df\",\n  \"rows\": 5,\n  \"fields\": [\n    {\n      \"column\": \"Unnamed: 0.1\",\n      \"properties\": {\n        \"dtype\": \"number\",\n        \"std\": 1,\n        \"min\": 7100,\n        \"max\": 7104,\n        \"num_unique_values\": 5,\n        \"samples\": [\n          7101,\n          7104,\n          7102\n        ],\n        \"semantic_type\": \"\",\n        \"description\": \"\"\n      }\n    },\n    {\n      \"column\": \"Unnamed: 0\",\n      \"properties\": {\n        \"dtype\": \"number\",\n        \"std\": 1,\n        \"min\": 7100,\n        \"max\": 7104,\n        \"num_unique_values\": 5,\n        \"samples\": [\n          7101,\n          7104,\n          7102\n        ],\n        \"semantic_type\": \"\",\n        \"description\": \"\"\n      }\n    },\n    {\n      \"column\": \"restaurant name\",\n      \"properties\": {\n        \"dtype\": \"string\",\n        \"num_unique_values\": 5,\n        \"samples\": [\n          \"ZOROY Luxury Chocolate\",\n          \"Zyksha\",\n          \"Zu's Doner Kebaps\"\n        ],\n        \"semantic_type\": \"\",\n        \"description\": \"\"\n      }\n    },\n    {\n      \"column\": \"restaurant type\",\n      \"properties\": {\n        \"dtype\": \"string\",\n        \"num_unique_values\": 5,\n        \"samples\": [\n          \"Dessert Parlor\",\n          \"Food Truck\",\n          \"Takeaway, Delivery\"\n        ],\n        \"semantic_type\": \"\",\n        \"description\": \"\"\n      }\n    },\n    {\n      \"column\": \"rate (out of 5)\",\n      \"properties\": {\n        \"dtype\": \"number\",\n        \"std\": 0.33615472627943216,\n        \"min\": 3.4,\n        \"max\": 4.3,\n        \"num_unique_values\": 5,\n        \"samples\": [\n          4.0,\n          3.4,\n          3.7\n        ],\n        \"semantic_type\": \"\",\n        \"description\": \"\"\n      }\n    },\n    {\n      \"column\": \"num of ratings\",\n      \"properties\": {\n        \"dtype\": \"number\",\n        \"std\": 372,\n        \"min\": 9,\n        \"max\": 894,\n        \"num_unique_values\": 5,\n        \"samples\": [\n          68,\n          9,\n          33\n        ],\n        \"semantic_type\": \"\",\n        \"description\": \"\"\n      }\n    },\n    {\n      \"column\": \"avg cost (two people)\",\n      \"properties\": {\n        \"dtype\": \"number\",\n        \"std\": 204.3281674170255,\n        \"min\": 200.0,\n        \"max\": 650.0,\n        \"num_unique_values\": 5,\n        \"samples\": [\n          250.0,\n          200.0,\n          350.0\n        ],\n        \"semantic_type\": \"\",\n        \"description\": \"\"\n      }\n    },\n    {\n      \"column\": \"online_order\",\n      \"properties\": {\n        \"dtype\": \"category\",\n        \"num_unique_values\": 2,\n        \"samples\": [\n          \"No\",\n          \"Yes\"\n        ],\n        \"semantic_type\": \"\",\n        \"description\": \"\"\n      }\n    },\n    {\n      \"column\": \"table booking\",\n      \"properties\": {\n        \"dtype\": \"category\",\n        \"num_unique_values\": 1,\n        \"samples\": [\n          \"No\"\n        ],\n        \"semantic_type\": \"\",\n        \"description\": \"\"\n      }\n    },\n    {\n      \"column\": \"cuisines type\",\n      \"properties\": {\n        \"dtype\": \"string\",\n        \"num_unique_values\": 5,\n        \"samples\": [\n          \"Desserts\"\n        ],\n        \"semantic_type\": \"\",\n        \"description\": \"\"\n      }\n    },\n    {\n      \"column\": \"area\",\n      \"properties\": {\n        \"dtype\": \"string\",\n        \"num_unique_values\": 5,\n        \"samples\": [\n          \"Brigade Road\"\n        ],\n        \"semantic_type\": \"\",\n        \"description\": \"\"\n      }\n    },\n    {\n      \"column\": \"local address\",\n      \"properties\": {\n        \"dtype\": \"string\",\n        \"num_unique_values\": 5,\n        \"samples\": [\n          \"Church Street\"\n        ],\n        \"semantic_type\": \"\",\n        \"description\": \"\"\n      }\n    }\n  ]\n}"
            }
          },
          "metadata": {},
          "execution_count": 4
        }
      ]
    },
    {
      "cell_type": "code",
      "source": [
        "df.shape"
      ],
      "metadata": {
        "colab": {
          "base_uri": "https://localhost:8080/"
        },
        "id": "W4xEjcOJ2rIH",
        "outputId": "31ba29fc-2ce2-447b-b2a6-90c90a49d244"
      },
      "execution_count": 5,
      "outputs": [
        {
          "output_type": "execute_result",
          "data": {
            "text/plain": [
              "(7105, 12)"
            ]
          },
          "metadata": {},
          "execution_count": 5
        }
      ]
    },
    {
      "cell_type": "markdown",
      "source": [
        "# **There are two unwanted columns which should be removed.**"
      ],
      "metadata": {
        "id": "vybG2aAk5BgJ"
      }
    },
    {
      "cell_type": "code",
      "source": [
        "df.drop('Unnamed: 0.1',axis=1,inplace=True)"
      ],
      "metadata": {
        "id": "vf3VzvhZ3BQX"
      },
      "execution_count": 6,
      "outputs": []
    },
    {
      "cell_type": "code",
      "source": [
        "df.drop('Unnamed: 0',axis=1,inplace=True)"
      ],
      "metadata": {
        "id": "7_r8h3YJ3EfX"
      },
      "execution_count": 7,
      "outputs": []
    },
    {
      "cell_type": "markdown",
      "source": [
        "# **Checking the datatype of columns in table.**"
      ],
      "metadata": {
        "id": "3wePgJsY3K49"
      }
    },
    {
      "cell_type": "code",
      "source": [
        "df.dtypes"
      ],
      "metadata": {
        "colab": {
          "base_uri": "https://localhost:8080/"
        },
        "id": "FmNVx0im3GQV",
        "outputId": "c381ba3a-4a68-4710-ded6-691cf92dea9d"
      },
      "execution_count": 8,
      "outputs": [
        {
          "output_type": "execute_result",
          "data": {
            "text/plain": [
              "restaurant name           object\n",
              "restaurant type           object\n",
              "rate (out of 5)          float64\n",
              "num of ratings             int64\n",
              "avg cost (two people)    float64\n",
              "online_order              object\n",
              "table booking             object\n",
              "cuisines type             object\n",
              "area                      object\n",
              "local address             object\n",
              "dtype: object"
            ]
          },
          "metadata": {},
          "execution_count": 8
        }
      ]
    },
    {
      "cell_type": "markdown",
      "source": [
        "# **Checking for Null Values.**"
      ],
      "metadata": {
        "id": "5ot4CCTm3rlh"
      }
    },
    {
      "cell_type": "code",
      "source": [
        "df.isnull().sum()"
      ],
      "metadata": {
        "colab": {
          "base_uri": "https://localhost:8080/"
        },
        "id": "9Z4gtPFU3w_3",
        "outputId": "0905bc70-a42a-43e0-fb25-dbc389c76bd8"
      },
      "execution_count": 9,
      "outputs": [
        {
          "output_type": "execute_result",
          "data": {
            "text/plain": [
              "restaurant name           0\n",
              "restaurant type           0\n",
              "rate (out of 5)          68\n",
              "num of ratings            0\n",
              "avg cost (two people)    57\n",
              "online_order              0\n",
              "table booking             0\n",
              "cuisines type             0\n",
              "area                      0\n",
              "local address             0\n",
              "dtype: int64"
            ]
          },
          "metadata": {},
          "execution_count": 9
        }
      ]
    },
    {
      "cell_type": "markdown",
      "source": [
        "# **There are two columns which have missing values. So we will drop null values from columns.**"
      ],
      "metadata": {
        "id": "tdoTl3P235bF"
      }
    },
    {
      "cell_type": "code",
      "source": [
        "df.dropna(subset=['rate (out of 5)'], inplace=True)"
      ],
      "metadata": {
        "id": "sSpTxfFu37lG"
      },
      "execution_count": 10,
      "outputs": []
    },
    {
      "cell_type": "code",
      "source": [
        "df.dropna(subset=['avg cost (two people)'], inplace=True)"
      ],
      "metadata": {
        "id": "IjcE59pX39Sn"
      },
      "execution_count": 11,
      "outputs": []
    },
    {
      "cell_type": "markdown",
      "source": [
        "# **Now if we check for Null Values.**"
      ],
      "metadata": {
        "id": "L_zgp2jx4DIh"
      }
    },
    {
      "cell_type": "code",
      "source": [
        "df.isnull().sum()"
      ],
      "metadata": {
        "colab": {
          "base_uri": "https://localhost:8080/"
        },
        "id": "Naw45Zd94E2v",
        "outputId": "090dc1ac-acb3-48a2-86ea-edf1542335c0"
      },
      "execution_count": 12,
      "outputs": [
        {
          "output_type": "execute_result",
          "data": {
            "text/plain": [
              "restaurant name          0\n",
              "restaurant type          0\n",
              "rate (out of 5)          0\n",
              "num of ratings           0\n",
              "avg cost (two people)    0\n",
              "online_order             0\n",
              "table booking            0\n",
              "cuisines type            0\n",
              "area                     0\n",
              "local address            0\n",
              "dtype: int64"
            ]
          },
          "metadata": {},
          "execution_count": 12
        }
      ]
    },
    {
      "cell_type": "markdown",
      "source": [
        "# **Finding Count Mean Standard Deviation.**"
      ],
      "metadata": {
        "id": "r98bnxvr4LPa"
      }
    },
    {
      "cell_type": "code",
      "source": [
        "df.describe()"
      ],
      "metadata": {
        "colab": {
          "base_uri": "https://localhost:8080/",
          "height": 300
        },
        "id": "2lWZQZZD4NUG",
        "outputId": "17ee3a6f-f674-4778-a709-4d7fa45ce9a6"
      },
      "execution_count": 14,
      "outputs": [
        {
          "output_type": "execute_result",
          "data": {
            "text/plain": [
              "       rate (out of 5)  num of ratings  avg cost (two people)\n",
              "count      6984.000000     6984.000000            6984.000000\n",
              "mean          3.514304      190.928837             542.544244\n",
              "std           0.463489      596.717894             464.266828\n",
              "min           1.800000        1.000000              40.000000\n",
              "25%           3.200000       15.000000             300.000000\n",
              "50%           3.500000       40.000000             400.000000\n",
              "75%           3.800000      130.000000             600.000000\n",
              "max           4.900000    16345.000000            6000.000000"
            ],
            "text/html": [
              "\n",
              "  <div id=\"df-d936eaab-d407-4c92-8130-c299a97a0463\" class=\"colab-df-container\">\n",
              "    <div>\n",
              "<style scoped>\n",
              "    .dataframe tbody tr th:only-of-type {\n",
              "        vertical-align: middle;\n",
              "    }\n",
              "\n",
              "    .dataframe tbody tr th {\n",
              "        vertical-align: top;\n",
              "    }\n",
              "\n",
              "    .dataframe thead th {\n",
              "        text-align: right;\n",
              "    }\n",
              "</style>\n",
              "<table border=\"1\" class=\"dataframe\">\n",
              "  <thead>\n",
              "    <tr style=\"text-align: right;\">\n",
              "      <th></th>\n",
              "      <th>rate (out of 5)</th>\n",
              "      <th>num of ratings</th>\n",
              "      <th>avg cost (two people)</th>\n",
              "    </tr>\n",
              "  </thead>\n",
              "  <tbody>\n",
              "    <tr>\n",
              "      <th>count</th>\n",
              "      <td>6984.000000</td>\n",
              "      <td>6984.000000</td>\n",
              "      <td>6984.000000</td>\n",
              "    </tr>\n",
              "    <tr>\n",
              "      <th>mean</th>\n",
              "      <td>3.514304</td>\n",
              "      <td>190.928837</td>\n",
              "      <td>542.544244</td>\n",
              "    </tr>\n",
              "    <tr>\n",
              "      <th>std</th>\n",
              "      <td>0.463489</td>\n",
              "      <td>596.717894</td>\n",
              "      <td>464.266828</td>\n",
              "    </tr>\n",
              "    <tr>\n",
              "      <th>min</th>\n",
              "      <td>1.800000</td>\n",
              "      <td>1.000000</td>\n",
              "      <td>40.000000</td>\n",
              "    </tr>\n",
              "    <tr>\n",
              "      <th>25%</th>\n",
              "      <td>3.200000</td>\n",
              "      <td>15.000000</td>\n",
              "      <td>300.000000</td>\n",
              "    </tr>\n",
              "    <tr>\n",
              "      <th>50%</th>\n",
              "      <td>3.500000</td>\n",
              "      <td>40.000000</td>\n",
              "      <td>400.000000</td>\n",
              "    </tr>\n",
              "    <tr>\n",
              "      <th>75%</th>\n",
              "      <td>3.800000</td>\n",
              "      <td>130.000000</td>\n",
              "      <td>600.000000</td>\n",
              "    </tr>\n",
              "    <tr>\n",
              "      <th>max</th>\n",
              "      <td>4.900000</td>\n",
              "      <td>16345.000000</td>\n",
              "      <td>6000.000000</td>\n",
              "    </tr>\n",
              "  </tbody>\n",
              "</table>\n",
              "</div>\n",
              "    <div class=\"colab-df-buttons\">\n",
              "\n",
              "  <div class=\"colab-df-container\">\n",
              "    <button class=\"colab-df-convert\" onclick=\"convertToInteractive('df-d936eaab-d407-4c92-8130-c299a97a0463')\"\n",
              "            title=\"Convert this dataframe to an interactive table.\"\n",
              "            style=\"display:none;\">\n",
              "\n",
              "  <svg xmlns=\"http://www.w3.org/2000/svg\" height=\"24px\" viewBox=\"0 -960 960 960\">\n",
              "    <path d=\"M120-120v-720h720v720H120Zm60-500h600v-160H180v160Zm220 220h160v-160H400v160Zm0 220h160v-160H400v160ZM180-400h160v-160H180v160Zm440 0h160v-160H620v160ZM180-180h160v-160H180v160Zm440 0h160v-160H620v160Z\"/>\n",
              "  </svg>\n",
              "    </button>\n",
              "\n",
              "  <style>\n",
              "    .colab-df-container {\n",
              "      display:flex;\n",
              "      gap: 12px;\n",
              "    }\n",
              "\n",
              "    .colab-df-convert {\n",
              "      background-color: #E8F0FE;\n",
              "      border: none;\n",
              "      border-radius: 50%;\n",
              "      cursor: pointer;\n",
              "      display: none;\n",
              "      fill: #1967D2;\n",
              "      height: 32px;\n",
              "      padding: 0 0 0 0;\n",
              "      width: 32px;\n",
              "    }\n",
              "\n",
              "    .colab-df-convert:hover {\n",
              "      background-color: #E2EBFA;\n",
              "      box-shadow: 0px 1px 2px rgba(60, 64, 67, 0.3), 0px 1px 3px 1px rgba(60, 64, 67, 0.15);\n",
              "      fill: #174EA6;\n",
              "    }\n",
              "\n",
              "    .colab-df-buttons div {\n",
              "      margin-bottom: 4px;\n",
              "    }\n",
              "\n",
              "    [theme=dark] .colab-df-convert {\n",
              "      background-color: #3B4455;\n",
              "      fill: #D2E3FC;\n",
              "    }\n",
              "\n",
              "    [theme=dark] .colab-df-convert:hover {\n",
              "      background-color: #434B5C;\n",
              "      box-shadow: 0px 1px 3px 1px rgba(0, 0, 0, 0.15);\n",
              "      filter: drop-shadow(0px 1px 2px rgba(0, 0, 0, 0.3));\n",
              "      fill: #FFFFFF;\n",
              "    }\n",
              "  </style>\n",
              "\n",
              "    <script>\n",
              "      const buttonEl =\n",
              "        document.querySelector('#df-d936eaab-d407-4c92-8130-c299a97a0463 button.colab-df-convert');\n",
              "      buttonEl.style.display =\n",
              "        google.colab.kernel.accessAllowed ? 'block' : 'none';\n",
              "\n",
              "      async function convertToInteractive(key) {\n",
              "        const element = document.querySelector('#df-d936eaab-d407-4c92-8130-c299a97a0463');\n",
              "        const dataTable =\n",
              "          await google.colab.kernel.invokeFunction('convertToInteractive',\n",
              "                                                    [key], {});\n",
              "        if (!dataTable) return;\n",
              "\n",
              "        const docLinkHtml = 'Like what you see? Visit the ' +\n",
              "          '<a target=\"_blank\" href=https://colab.research.google.com/notebooks/data_table.ipynb>data table notebook</a>'\n",
              "          + ' to learn more about interactive tables.';\n",
              "        element.innerHTML = '';\n",
              "        dataTable['output_type'] = 'display_data';\n",
              "        await google.colab.output.renderOutput(dataTable, element);\n",
              "        const docLink = document.createElement('div');\n",
              "        docLink.innerHTML = docLinkHtml;\n",
              "        element.appendChild(docLink);\n",
              "      }\n",
              "    </script>\n",
              "  </div>\n",
              "\n",
              "\n",
              "<div id=\"df-63a6430b-0bad-464e-8aea-4b00e8631a75\">\n",
              "  <button class=\"colab-df-quickchart\" onclick=\"quickchart('df-63a6430b-0bad-464e-8aea-4b00e8631a75')\"\n",
              "            title=\"Suggest charts\"\n",
              "            style=\"display:none;\">\n",
              "\n",
              "<svg xmlns=\"http://www.w3.org/2000/svg\" height=\"24px\"viewBox=\"0 0 24 24\"\n",
              "     width=\"24px\">\n",
              "    <g>\n",
              "        <path d=\"M19 3H5c-1.1 0-2 .9-2 2v14c0 1.1.9 2 2 2h14c1.1 0 2-.9 2-2V5c0-1.1-.9-2-2-2zM9 17H7v-7h2v7zm4 0h-2V7h2v10zm4 0h-2v-4h2v4z\"/>\n",
              "    </g>\n",
              "</svg>\n",
              "  </button>\n",
              "\n",
              "<style>\n",
              "  .colab-df-quickchart {\n",
              "      --bg-color: #E8F0FE;\n",
              "      --fill-color: #1967D2;\n",
              "      --hover-bg-color: #E2EBFA;\n",
              "      --hover-fill-color: #174EA6;\n",
              "      --disabled-fill-color: #AAA;\n",
              "      --disabled-bg-color: #DDD;\n",
              "  }\n",
              "\n",
              "  [theme=dark] .colab-df-quickchart {\n",
              "      --bg-color: #3B4455;\n",
              "      --fill-color: #D2E3FC;\n",
              "      --hover-bg-color: #434B5C;\n",
              "      --hover-fill-color: #FFFFFF;\n",
              "      --disabled-bg-color: #3B4455;\n",
              "      --disabled-fill-color: #666;\n",
              "  }\n",
              "\n",
              "  .colab-df-quickchart {\n",
              "    background-color: var(--bg-color);\n",
              "    border: none;\n",
              "    border-radius: 50%;\n",
              "    cursor: pointer;\n",
              "    display: none;\n",
              "    fill: var(--fill-color);\n",
              "    height: 32px;\n",
              "    padding: 0;\n",
              "    width: 32px;\n",
              "  }\n",
              "\n",
              "  .colab-df-quickchart:hover {\n",
              "    background-color: var(--hover-bg-color);\n",
              "    box-shadow: 0 1px 2px rgba(60, 64, 67, 0.3), 0 1px 3px 1px rgba(60, 64, 67, 0.15);\n",
              "    fill: var(--button-hover-fill-color);\n",
              "  }\n",
              "\n",
              "  .colab-df-quickchart-complete:disabled,\n",
              "  .colab-df-quickchart-complete:disabled:hover {\n",
              "    background-color: var(--disabled-bg-color);\n",
              "    fill: var(--disabled-fill-color);\n",
              "    box-shadow: none;\n",
              "  }\n",
              "\n",
              "  .colab-df-spinner {\n",
              "    border: 2px solid var(--fill-color);\n",
              "    border-color: transparent;\n",
              "    border-bottom-color: var(--fill-color);\n",
              "    animation:\n",
              "      spin 1s steps(1) infinite;\n",
              "  }\n",
              "\n",
              "  @keyframes spin {\n",
              "    0% {\n",
              "      border-color: transparent;\n",
              "      border-bottom-color: var(--fill-color);\n",
              "      border-left-color: var(--fill-color);\n",
              "    }\n",
              "    20% {\n",
              "      border-color: transparent;\n",
              "      border-left-color: var(--fill-color);\n",
              "      border-top-color: var(--fill-color);\n",
              "    }\n",
              "    30% {\n",
              "      border-color: transparent;\n",
              "      border-left-color: var(--fill-color);\n",
              "      border-top-color: var(--fill-color);\n",
              "      border-right-color: var(--fill-color);\n",
              "    }\n",
              "    40% {\n",
              "      border-color: transparent;\n",
              "      border-right-color: var(--fill-color);\n",
              "      border-top-color: var(--fill-color);\n",
              "    }\n",
              "    60% {\n",
              "      border-color: transparent;\n",
              "      border-right-color: var(--fill-color);\n",
              "    }\n",
              "    80% {\n",
              "      border-color: transparent;\n",
              "      border-right-color: var(--fill-color);\n",
              "      border-bottom-color: var(--fill-color);\n",
              "    }\n",
              "    90% {\n",
              "      border-color: transparent;\n",
              "      border-bottom-color: var(--fill-color);\n",
              "    }\n",
              "  }\n",
              "</style>\n",
              "\n",
              "  <script>\n",
              "    async function quickchart(key) {\n",
              "      const quickchartButtonEl =\n",
              "        document.querySelector('#' + key + ' button');\n",
              "      quickchartButtonEl.disabled = true;  // To prevent multiple clicks.\n",
              "      quickchartButtonEl.classList.add('colab-df-spinner');\n",
              "      try {\n",
              "        const charts = await google.colab.kernel.invokeFunction(\n",
              "            'suggestCharts', [key], {});\n",
              "      } catch (error) {\n",
              "        console.error('Error during call to suggestCharts:', error);\n",
              "      }\n",
              "      quickchartButtonEl.classList.remove('colab-df-spinner');\n",
              "      quickchartButtonEl.classList.add('colab-df-quickchart-complete');\n",
              "    }\n",
              "    (() => {\n",
              "      let quickchartButtonEl =\n",
              "        document.querySelector('#df-63a6430b-0bad-464e-8aea-4b00e8631a75 button');\n",
              "      quickchartButtonEl.style.display =\n",
              "        google.colab.kernel.accessAllowed ? 'block' : 'none';\n",
              "    })();\n",
              "  </script>\n",
              "</div>\n",
              "\n",
              "    </div>\n",
              "  </div>\n"
            ],
            "application/vnd.google.colaboratory.intrinsic+json": {
              "type": "dataframe",
              "summary": "{\n  \"name\": \"df\",\n  \"rows\": 8,\n  \"fields\": [\n    {\n      \"column\": \"rate (out of 5)\",\n      \"properties\": {\n        \"dtype\": \"number\",\n        \"std\": 2468.1476066177124,\n        \"min\": 0.46348878697908075,\n        \"max\": 6984.0,\n        \"num_unique_values\": 8,\n        \"samples\": [\n          3.5143041237113404,\n          3.5,\n          6984.0\n        ],\n        \"semantic_type\": \"\",\n        \"description\": \"\"\n      }\n    },\n    {\n      \"column\": \"num of ratings\",\n      \"properties\": {\n        \"dtype\": \"number\",\n        \"std\": 5886.05134796103,\n        \"min\": 1.0,\n        \"max\": 16345.0,\n        \"num_unique_values\": 8,\n        \"samples\": [\n          190.92883734249713,\n          40.0,\n          6984.0\n        ],\n        \"semantic_type\": \"\",\n        \"description\": \"\"\n      }\n    },\n    {\n      \"column\": \"avg cost (two people)\",\n      \"properties\": {\n        \"dtype\": \"number\",\n        \"std\": 2841.491885003211,\n        \"min\": 40.0,\n        \"max\": 6984.0,\n        \"num_unique_values\": 8,\n        \"samples\": [\n          542.5442439862543,\n          400.0,\n          6984.0\n        ],\n        \"semantic_type\": \"\",\n        \"description\": \"\"\n      }\n    }\n  ]\n}"
            }
          },
          "metadata": {},
          "execution_count": 14
        }
      ]
    },
    {
      "cell_type": "markdown",
      "source": [
        "# **Finding the highest rating by customers.**"
      ],
      "metadata": {
        "id": "OAqV0eZM4TSt"
      }
    },
    {
      "cell_type": "code",
      "source": [
        "df['rate (out of 5)'].max()"
      ],
      "metadata": {
        "colab": {
          "base_uri": "https://localhost:8080/"
        },
        "id": "nuzVRoxW4V2-",
        "outputId": "d2128b1c-e915-42da-bc88-fa688e3c62b5"
      },
      "execution_count": 15,
      "outputs": [
        {
          "output_type": "execute_result",
          "data": {
            "text/plain": [
              "4.9"
            ]
          },
          "metadata": {},
          "execution_count": 15
        }
      ]
    },
    {
      "cell_type": "markdown",
      "source": [
        "# **Finding the number of Restaurants with maximum rating.**"
      ],
      "metadata": {
        "id": "MCtS6Dya4a12"
      }
    },
    {
      "cell_type": "code",
      "source": [
        "(df['rate (out of 5)']==4.9).sum()"
      ],
      "metadata": {
        "colab": {
          "base_uri": "https://localhost:8080/"
        },
        "id": "_zcPwBsa4lwv",
        "outputId": "950b23c5-232f-47d3-dd10-92c2343064b6"
      },
      "execution_count": 17,
      "outputs": [
        {
          "output_type": "execute_result",
          "data": {
            "text/plain": [
              "3"
            ]
          },
          "metadata": {},
          "execution_count": 17
        }
      ]
    },
    {
      "cell_type": "markdown",
      "source": [
        "# **These are the names of restaurants which have rating of 4.9**"
      ],
      "metadata": {
        "id": "tqQYAP3m4uzD"
      }
    },
    {
      "cell_type": "code",
      "source": [
        "df[df['rate (out of 5)'] == 4.9]['restaurant name']"
      ],
      "metadata": {
        "colab": {
          "base_uri": "https://localhost:8080/"
        },
        "id": "IQNRurN44uGq",
        "outputId": "58cea484-124e-4df5-a1fd-390c87e4b9c4"
      },
      "execution_count": 18,
      "outputs": [
        {
          "output_type": "execute_result",
          "data": {
            "text/plain": [
              "466                        Asia Kitchen By Mainland China\n",
              "1035                          Byg Brewski Brewing Company\n",
              "5271    SantÃÂÃÂÃÂÃÂÃÂÃÂÃÂÃÂÃÂÃÂÃ...\n",
              "Name: restaurant name, dtype: object"
            ]
          },
          "metadata": {},
          "execution_count": 18
        }
      ]
    },
    {
      "cell_type": "markdown",
      "source": [
        "# **Line Plot comparing ratings with their count**"
      ],
      "metadata": {
        "id": "pOq3aPdI9umL"
      }
    },
    {
      "cell_type": "code",
      "source": [
        "sns.lineplot(x='rate (out of 5)',y='num of ratings',data=df)"
      ],
      "metadata": {
        "colab": {
          "base_uri": "https://localhost:8080/",
          "height": 466
        },
        "id": "3f9CuX874zOJ",
        "outputId": "fd8d2aaf-fba9-4502-8666-3a86d3359369"
      },
      "execution_count": 37,
      "outputs": [
        {
          "output_type": "execute_result",
          "data": {
            "text/plain": [
              "<Axes: xlabel='rate (out of 5)', ylabel='num of ratings'>"
            ]
          },
          "metadata": {},
          "execution_count": 37
        },
        {
          "output_type": "display_data",
          "data": {
            "text/plain": [
              "<Figure size 640x480 with 1 Axes>"
            ],
            "image/png": "[encoded data removed]"
          },
          "metadata": {}
        }
      ]
    },
    {
      "cell_type": "markdown",
      "source": [
        "# **Box Plot comparing online order with ratings**"
      ],
      "metadata": {
        "id": "1JoFyTWo-bcd"
      }
    },
    {
      "cell_type": "code",
      "source": [
        "sns.boxplot(x='online_order',y='rate (out of 5)',data=df)"
      ],
      "metadata": {
        "colab": {
          "base_uri": "https://localhost:8080/",
          "height": 467
        },
        "id": "RklNm-nu5vJ6",
        "outputId": "039e7fcc-de27-432b-f00d-9594ae596fcc"
      },
      "execution_count": 39,
      "outputs": [
        {
          "output_type": "execute_result",
          "data": {
            "text/plain": [
              "<Axes: xlabel='online_order', ylabel='rate (out of 5)'>"
            ]
          },
          "metadata": {},
          "execution_count": 39
        },
        {
          "output_type": "display_data",
          "data": {
            "text/plain": [
              "<Figure size 640x480 with 1 Axes>"
            ],
            "image/png": "[encoded data removed]"
          },
          "metadata": {}
        }
      ]
    },
    {
      "cell_type": "code",
      "source": [
        "df.info()"
      ],
      "metadata": {
        "colab": {
          "base_uri": "https://localhost:8080/"
        },
        "id": "PXDhOfet6bq2",
        "outputId": "832db19d-f3fd-4d7c-83f4-5704e7b0b5a5"
      },
      "execution_count": 24,
      "outputs": [
        {
          "output_type": "stream",
          "name": "stdout",
          "text": [
            "<class 'pandas.core.frame.DataFrame'>\n",
            "Int64Index: 6984 entries, 0 to 7104\n",
            "Data columns (total 10 columns):\n",
            " #   Column                 Non-Null Count  Dtype  \n",
            "---  ------                 --------------  -----  \n",
            " 0   restaurant name        6984 non-null   object \n",
            " 1   restaurant type        6984 non-null   object \n",
            " 2   rate (out of 5)        6984 non-null   float64\n",
            " 3   num of ratings         6984 non-null   int64  \n",
            " 4   avg cost (two people)  6984 non-null   float64\n",
            " 5   online_order           6984 non-null   object \n",
            " 6   table booking          6984 non-null   object \n",
            " 7   cuisines type          6984 non-null   object \n",
            " 8   area                   6984 non-null   object \n",
            " 9   local address          6984 non-null   object \n",
            "dtypes: float64(2), int64(1), object(7)\n",
            "memory usage: 600.2+ KB\n"
          ]
        }
      ]
    },
    {
      "cell_type": "markdown",
      "source": [
        "# **Displot showing number of online placed orders**"
      ],
      "metadata": {
        "id": "LZsh0v-Y_2a7"
      }
    },
    {
      "cell_type": "code",
      "source": [
        "sns.displot(df['online_order'])"
      ],
      "metadata": {
        "colab": {
          "base_uri": "https://localhost:8080/",
          "height": 523
        },
        "id": "VT1-2U-P6cKj",
        "outputId": "c36f95b2-f70e-40da-f307-ea47eb4801a3"
      },
      "execution_count": 32,
      "outputs": [
        {
          "output_type": "execute_result",
          "data": {
            "text/plain": [
              "<seaborn.axisgrid.FacetGrid at 0x7f5553fef430>"
            ]
          },
          "metadata": {},
          "execution_count": 32
        },
        {
          "output_type": "display_data",
          "data": {
            "text/plain": [
              "<Figure size 500x500 with 1 Axes>"
            ],
            "image/png": "[encoded data removed]"
          },
          "metadata": {}
        }
      ]
    },
    {
      "cell_type": "markdown",
      "source": [
        "# **BarPlot comparing number of ratings with table booking**"
      ],
      "metadata": {
        "id": "_enMknXsAEZU"
      }
    },
    {
      "cell_type": "code",
      "source": [
        "sns.barplot(data=df,x=\"table booking\",y=\"num of ratings\",palette=['#a1c9f4', '#8de5a1'])"
      ],
      "metadata": {
        "colab": {
          "base_uri": "https://localhost:8080/",
          "height": 573
        },
        "id": "8tkPToOi8Ljm",
        "outputId": "87db3c56-9e69-4216-f954-ba7fcce12499"
      },
      "execution_count": 41,
      "outputs": [
        {
          "output_type": "stream",
          "name": "stderr",
          "text": [
            "<ipython-input-41-efe06e4efcb1>:1: FutureWarning: \n",
            "\n",
            "Passing `palette` without assigning `hue` is deprecated and will be removed in v0.14.0. Assign the `x` variable to `hue` and set `legend=False` for the same effect.\n",
            "\n",
            "  sns.barplot(data=df,x=\"table booking\",y=\"num of ratings\",palette=['#a1c9f4', '#8de5a1'])\n"
          ]
        },
        {
          "output_type": "execute_result",
          "data": {
            "text/plain": [
              "<Axes: xlabel='table booking', ylabel='num of ratings'>"
            ]
          },
          "metadata": {},
          "execution_count": 41
        },
        {
          "output_type": "display_data",
          "data": {
            "text/plain": [
              "<Figure size 640x480 with 1 Axes>"
            ],
            "image/png": "[encoded data removed]"
          },
          "metadata": {}
        }
      ]
    }
  ]
}